{
 "cells": [
  {
   "cell_type": "code",
   "execution_count": null,
   "id": "153c0e02",
   "metadata": {},
   "outputs": [],
   "source": [
    "1.)What are Data Types?\n",
    "\n",
    "A data type is a set of values and a set of operations defined on data. \n",
    "An implementation of a data type is an expression of data and operations in terms of a specific\n",
    "programming language such as Java, C ++, or Python."
   ]
  },
  {
   "cell_type": "code",
   "execution_count": null,
   "id": "6755fb9e",
   "metadata": {},
   "outputs": [],
   "source": [
    "2.)Name four of the main data types in Python\n",
    "\n",
    "Numbers, strings, lists, dictionaries, tuples, files, and sets are generally considered the main types of data. \n",
    "Types, None, and Booleans are sometimes also classified this way.\n",
    "The integer, floating-point, complex, fraction and decimal are numerical data types and simple strings and Unicode \n",
    "strings in Python 2 and text strings and byte strings in Python 3 are the types of string data types."
   ]
  },
  {
   "cell_type": "code",
   "execution_count": null,
   "id": "77e694eb",
   "metadata": {},
   "outputs": [],
   "source": [
    "3.)What is polymorphism and why should you care?\n",
    "Polymorphism means that the meaning of an operation (like a+) depends on the objects being operated. \n",
    "This turns out to be a key idea behind good use of Python, not coercing code to specific \n",
    "types makes that code automatically applied to many types."
   ]
  },
  {
   "cell_type": "code",
   "execution_count": null,
   "id": "fe9b3109",
   "metadata": {},
   "outputs": [],
   "source": [
    "4.)What is slicing in Python?\n",
    "As the name suggests, ‘slicing’ is taking parts of.\n",
    "Syntax for slicing is [start : stop : step]\n",
    "start is the starting index from where to slice a list or tuple\n",
    "stop is the ending index or where to sop.\n",
    "step is the number of steps to jump.\n",
    "Default value for start is 0, stop is number of items, step is 1.\n",
    "Slicing can be done on strings, arrays, lists, and tuples."
   ]
  },
  {
   "cell_type": "code",
   "execution_count": null,
   "id": "dc671eda",
   "metadata": {},
   "outputs": [],
   "source": [
    "5.)What are Python namespaces? Why are they used?\n",
    "A namespace in Python ensures that object names in a program are unique and can be used without any conflict. \n",
    "Python implements these namespaces as dictionaries with 'name as key' mapped to a corresponding 'object as value'. \n",
    "This allows for multiple namespaces to use the same name and map it to a separate object. \n",
    "A few examples of namespaces are as follows:\n",
    "\n",
    "Local Namespace includes local names inside a function. \n",
    "the namespace is temporarily created for a function call and gets cleared when the function returns.\n",
    "Global Namespace includes names from various imported packages/ modules that are being used in the current project. \n",
    "This namespace is created when the package is imported in the script and lasts until the execution of the script.\n",
    "Built-in Namespace includes built-in functions of core Python and built-in names for various types of exceptions.\n",
    "The lifecycle of a namespace depends upon the scope of objects they are mapped to. \n",
    "If the scope of an object ends, the lifecycle of that namespace comes to an end. \n",
    "Hence, it isn't possible to access inner namespace objects from an outer namespace."
   ]
  },
  {
   "cell_type": "code",
   "execution_count": null,
   "id": "ad0265d3",
   "metadata": {},
   "outputs": [],
   "source": [
    "6.)What are Dict and List comprehensions\n",
    "Python comprehensions, like decorators, are syntactic sugar constructs that help build altered and filtered lists,\n",
    "dictionaries, or sets from a given list, dictionary, or set. Using comprehensions \n",
    "saves a lot of time and code that might be considerably more verbose (containing more lines of code). \n",
    "Let's check out some examples, where comprehensions can be truly beneficial:"
   ]
  },
  {
   "cell_type": "code",
   "execution_count": null,
   "id": "bf5319be",
   "metadata": {},
   "outputs": [],
   "source": [
    "7.)What is lambda in Python? Why is it used?\n",
    "Lambda is an anonymous function in Python, that can accept any number of arguments, \n",
    "but can only have a single expression. It is generally used in situations requiring an anonymous \n",
    "function for a short time period.\n",
    "Lambda functions can be used in either of the two ways"
   ]
  },
  {
   "cell_type": "code",
   "execution_count": null,
   "id": "2b4a5cb3",
   "metadata": {},
   "outputs": [],
   "source": [
    "8.)What is the use of help() and dir() functions?\n",
    "help() function in Python is used to display the documentation of modules, classes, functions, keywords, etc. \n",
    "If no parameter is passed to the help() function, then an interactive help utility is launched on the console.\n",
    "dir() function tries to return a valid list of attributes and methods of the object it is called upon.\n",
    "It behaves differently with different objects, as it aims to produce\n",
    "the most relevant data, rather than the complete information.\n",
    "\n",
    "For Modules/Library objects, it returns a list of all attributes, contained in that module.\n",
    "For Class Objects, it returns a list of all valid attributes and base attributes.\n",
    "With no arguments passed, it returns a list of attributes in the current scope.\n"
   ]
  },
  {
   "cell_type": "code",
   "execution_count": null,
   "id": "c89e5a98",
   "metadata": {},
   "outputs": [],
   "source": [
    "9.) What is the difference between .py and .pyc files?\n",
    ".py files contain the source code of a program. Whereas, .pyc file contains the bytecode of your program. \n",
    "We get bytecode after compilation of .py file (source code). .pyc files are not created for all the files that you run. \n",
    "It is only created for the files that you import.\n",
    "Before executing a python program python interpreter checks for the compiled files. \n",
    "If the file is present, the virtual machine executes it. If not found, it checks for .py file. \n",
    "If found, compiles it to .pyc file and then python virtual machine executes it.\n",
    "Having .pyc file saves you the compilation time."
   ]
  },
  {
   "cell_type": "code",
   "execution_count": null,
   "id": "cdf29d77",
   "metadata": {},
   "outputs": [],
   "source": [
    "10.)What are iterators in Python?\n",
    "An iterator is an object.\n",
    "It remembers its state i.e., where it is during iteration (see code below to see how)\n",
    "__iter__() method initializes an iterator.\n",
    "It has a __next__() method which returns the next item in iteration and points to the next element.\n",
    "Upon reaching the end of iterable object __next__() must return StopIteration exception.\n",
    "It is also self-iterable.\n",
    "Iterators are objects with which we can iterate over iterable objects like lists, strings, etc."
   ]
  },
  {
   "cell_type": "code",
   "execution_count": null,
   "id": "4a42aa03",
   "metadata": {},
   "outputs": [],
   "source": [
    "11.)Explain how to delete a file in Python?\n",
    "Use command os.remove(file_name)"
   ]
  },
  {
   "cell_type": "code",
   "execution_count": null,
   "id": "4a0a1d47",
   "metadata": {},
   "outputs": [],
   "source": [
    "12.)Explain split() and join() functions in Python?\n",
    "You can use split() function to split a string based on a delimiter to a list of strings.\n",
    "You can use join() function to join a list of strings based on a delimiter to give a single string."
   ]
  },
  {
   "cell_type": "code",
   "execution_count": null,
   "id": "eb4cef2d",
   "metadata": {},
   "outputs": [],
   "source": [
    "13.)What is init method in python\n",
    "The init method works similarly to the constructors in Java. The method is run as soon as an object is instantiated. \n",
    "It is useful for initializing any attributes or default behaviour of the object at the time of instantiation."
   ]
  },
  {
   "cell_type": "markdown",
   "id": "92a6557a",
   "metadata": {},
   "source": [
    "14.) Is Python case-sensitive?\n",
    "A language is case-sensitive if it distinguishes between identifiers like myname and Myname. In other words, it cares about case- lowercase or uppercase.\n"
   ]
  },
  {
   "cell_type": "code",
   "execution_count": null,
   "id": "fbfc3e62",
   "metadata": {},
   "outputs": [],
   "source": [
    "15.)How would you convert a string into lowercase?\n",
    "We use the lower() method for this."
   ]
  },
  {
   "cell_type": "code",
   "execution_count": null,
   "id": "170203cd",
   "metadata": {},
   "outputs": [],
   "source": [
    "16.)What is the pass statement in Python?\n",
    "There may be times in our code when we haven’t decided what to do yet, but we must type something for it to be syntactically correct. \n",
    "In such a case, we use the pass statement."
   ]
  },
  {
   "cell_type": "code",
   "execution_count": null,
   "id": "174822ce",
   "metadata": {},
   "outputs": [],
   "source": [
    "17.)How will you capitalize the first letter of a string?\n",
    "Simply using the method capitalize()."
   ]
  },
  {
   "cell_type": "code",
   "execution_count": null,
   "id": "e6802c60",
   "metadata": {},
   "outputs": [],
   "source": [
    "18.)How does a function return values?\n",
    "A function uses the ‘return’ keyword to return a value."
   ]
  },
  {
   "cell_type": "code",
   "execution_count": null,
   "id": "5d6a1c38",
   "metadata": {},
   "outputs": [],
   "source": [
    "19.)What do you know about relational operators in Python.\n",
    "Relational operators compare values.\n",
    "\n",
    "Less than (<) If the value on the left is lesser, it returns True.\n",
    "Greater than (>) If the value on the left is greater, it returns True.\n"
   ]
  },
  {
   "cell_type": "code",
   "execution_count": null,
   "id": "667bb22c",
   "metadata": {},
   "outputs": [],
   "source": [
    "20.) Explain logical operators in Python.\n",
    "We have three logical operators- and, or, not.\n",
    "\n"
   ]
  },
  {
   "cell_type": "code",
   "execution_count": null,
   "id": "861f234c",
   "metadata": {},
   "outputs": [],
   "source": [
    "21.)What are membership operators?\n",
    "With the operators ‘in’ and ‘not in’, we can confirm if a value is a member in another"
   ]
  },
  {
   "cell_type": "code",
   "execution_count": null,
   "id": "2716278e",
   "metadata": {},
   "outputs": [],
   "source": [
    "22.)How do you take input in Python?\n",
    "For taking input from the user, we have the function input(). In Python 2, we had another function raw_input().\n",
    "\n",
    "The input() function takes, as an argument, the text to be displayed for the task:"
   ]
  },
  {
   "cell_type": "code",
   "execution_count": null,
   "id": "d14b8085",
   "metadata": {},
   "outputs": [],
   "source": [
    "23.)What is a function?\n",
    "When we want to execute a sequence of statements, we can give it a name.\n"
   ]
  },
  {
   "cell_type": "code",
   "execution_count": null,
   "id": "43950409",
   "metadata": {},
   "outputs": [],
   "source": [
    "24.)How many arguments can the range() function take?\n",
    "The range() function in Python can take up to 3 argument"
   ]
  },
  {
   "cell_type": "code",
   "execution_count": null,
   "id": "74f18688",
   "metadata": {},
   "outputs": [],
   "source": [
    "25.)What makes Python object-oriented?\n",
    "Python is object-oriented because it follows the Object-Oriented programming paradigm. \n",
    "This is a paradigm that revolves around classes and their instances (objects). With this kind of programming,\n",
    "we have the following features:\n",
    "\n",
    "Encapsulation\n",
    "Abstraction\n",
    "Inheritance\n",
    "Polymorphism\n",
    "Data hiding"
   ]
  },
  {
   "cell_type": "code",
   "execution_count": null,
   "id": "8053d586",
   "metadata": {},
   "outputs": [],
   "source": [
    "26.)What are the rules for local and global variables in Python?\n",
    "Here are the rules for local and global variables in Python:\n",
    "\n",
    "Local variables: If a variable is assigned a new value anywhere within the function’s body, it’s assumed to be local.\n",
    "\n",
    "Global variables: Those variables that are only referenced inside a function are implicitly global."
   ]
  },
  {
   "cell_type": "code",
   "execution_count": null,
   "id": "682177bc",
   "metadata": {},
   "outputs": [],
   "source": [
    "30.) Explain Inheritance with example\n",
    "Inheritance is a feature used in object-oriented programming; \n",
    "it refers to defining a new class with less or no modification to an existing class.\n",
    "The new class is called the derived class, and from one which it inherits is called the base. Python supports inheritance;\n",
    "it also supports multiple inheritances.\n",
    "A class can inherit attributes and behavior methods\n",
    "from another class called subclass or heir class."
   ]
  }
 ],
 "metadata": {
  "kernelspec": {
   "display_name": "Python 3 (ipykernel)",
   "language": "python",
   "name": "python3"
  },
  "language_info": {
   "codemirror_mode": {
    "name": "ipython",
    "version": 3
   },
   "file_extension": ".py",
   "mimetype": "text/x-python",
   "name": "python",
   "nbconvert_exporter": "python",
   "pygments_lexer": "ipython3",
   "version": "3.9.7"
  }
 },
 "nbformat": 4,
 "nbformat_minor": 5
}
